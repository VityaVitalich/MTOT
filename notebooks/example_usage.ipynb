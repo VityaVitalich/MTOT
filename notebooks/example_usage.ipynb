{
 "cells": [
  {
   "cell_type": "code",
   "execution_count": 6,
   "metadata": {},
   "outputs": [],
   "source": [
    "from datasets import load_dataset\n",
    "from sentence_transformers import SentenceTransformer"
   ]
  },
  {
   "cell_type": "markdown",
   "metadata": {},
   "source": [
    "Датасет брать как показано ниже, каждый обьект это текст на русском и на английском. Я также дополнительно его токенизировал по предложениям для удобства"
   ]
  },
  {
   "cell_type": "code",
   "execution_count": 3,
   "metadata": {},
   "outputs": [
    {
     "data": {
      "application/vnd.jupyter.widget-view+json": {
       "model_id": "81133d1797e44ccc8aba25834b77b682",
       "version_major": 2,
       "version_minor": 0
      },
      "text/plain": [
       "Downloading readme:   0%|          | 0.00/414 [00:00<?, ?B/s]"
      ]
     },
     "metadata": {},
     "output_type": "display_data"
    },
    {
     "data": {
      "application/vnd.jupyter.widget-view+json": {
       "model_id": "8f233a35b8494667ab781f4d1cee866d",
       "version_major": 2,
       "version_minor": 0
      },
      "text/plain": [
       "Downloading data:   0%|          | 0.00/237M [00:00<?, ?B/s]"
      ]
     },
     "metadata": {},
     "output_type": "display_data"
    },
    {
     "data": {
      "application/vnd.jupyter.widget-view+json": {
       "model_id": "93cb2e395e5a447e885a3d59bc4b9a82",
       "version_major": 2,
       "version_minor": 0
      },
      "text/plain": [
       "Generating train split:   0%|          | 0/35313 [00:00<?, ? examples/s]"
      ]
     },
     "metadata": {},
     "output_type": "display_data"
    }
   ],
   "source": [
    "ds = load_dataset('VityaVitalich/wikihow_en_ru')"
   ]
  },
  {
   "cell_type": "code",
   "execution_count": 9,
   "metadata": {},
   "outputs": [
    {
     "data": {
      "text/plain": [
       "{'source': '. Эндометриоз — это заболевание, при котором клетки эндометрия разрастаются за пределами матки. Клетки могут разрастись вокруг матки и даже распространиться на другие участки брюшной полости. Основными симптомами этого заболевания являются сильные боли во время менструального цикла, которые могут продлиться на протяжении нескольких дней. К другим симптомам также можно отнести следующее:  боль во время секса; боль при испражнении или мочеиспускании, особенно во время менструального цикла; сильное кровотечение во время менструального цикла или в перерыве между циклами; бесплодие; прочие менее серьезные симптомы, вроде вздутия, диареи или запора, тошноты и усталости. Аденомиоз — это заболевание, при котором клетки эндометрия прорастают слишком глубоко в мышечную ткань матки. Это может привести к увеличению размеров матки, болям во время менструаций и прочим симптомам. У некоторых женщин при аденомиозе может не наблюдаться никаких симптомов, у других же может возникнуть следующее:  сильные или длительные боли во время менструального цикла; колющая боль в тазе или сильные спазмы; боли, которые с возрастом становятся все сильнее; боль во время занятий сексом; сгустки крови во время мензурального цикла; отек в брюшной полости из-за увеличенной матки. Причиной развития сальпингита, как правило, являются болезни, передающиеся половым путем. Сама же болезнь приводит к воспалению женских половых органов. Это заболевание может вызывать сильные боли. К другим симптомам сальпингита относятся:  боль в тазе; повышение температуры; выделения из влагалища с неприятным запахом; боль и/или кровотечение во время занятий сексом; чувство жжения во время мочеиспускания; кровотечение между менструальными циклами. Стеноз цервикального канала происходит, когда отверстие шейки матки сужается. У некоторых женщин после менопаузы при данном заболевании может не наблюдаться никаких симптомов. К симптомам стеноза цервикального канала можно отнести следующее:  отсутствие менструального цикла; сильная боль во время менструального цикла; аномальное кровотечение в перерыве между менструальными циклами; бесплодие; припухлость в области таза, вызванная выпуклостью в матке. Миома матки — это мышечная опухоль, растущая в стенках матки. Такие опухоли, как правило, являются доброкачественными и не вызывают никаких симптомов. Однако опухоли, кисты и прочие аномалии могут стать причиной вторичной дисменореи, именно поэтому при наличии сильных менструальных болей так важно обращаться к гинекологу. Симптомы миомы матки включают:  обильное кровотечение во время менструального цикла; Увеличение брюшной полости и/или тяжесть в нижней части живота; частое мочеиспускание; боль во время занятий сексом; боль в пояснице; трудности при деторождении или повторяющаяся необходимость в кесаревом сечении; бесплодие (в редких случаях). Внутриматочные противозачаточные средства, или ВМС, также могут стать причиной вторичной дисменореи. Если у вас установлено одно из этих противозачаточных средств и из-за него у вас сильные боли, советуем немедленно обратиться к гинекологу.  Причиной сильных болей, как правило, становятся медные внутриматочные противозачаточные средства.',\n",
       " 'target': '. Endometriosis is when endometrial tissue grows outside of the uterus. The tissue may grow around the uterus or even spread to other parts of your abdomen. Painful periods and cramps that last for several days are the main symptom of this condition, but symptoms can also include:  Pain when you have sex. Pain when you have a bowel movement or urinate, especially during your period. Excessive bleeding during your period or between periods. Infertility. Other less serious symptoms, such as bloating, diarrhea or constipation, nausea, and fatigue. Adenomyosis is a condition that causes endometrial glands to grow too deeply within the uterine muscular wall. This can lead to an enlarged uterus, painful periods, and other symptoms as well. Some women with adenomyosis have no symptoms, but symptoms may include:  Periods that are heavy or that last a long time. Stabbing pain in your pelvis or severe cramps. Cramps that worsen as you get older. Pain during sex. Blood clots that you pass during your period. Swelling in your abdomen due to an enlarged uterus. . Pelvic inflammatory disease often results from a sexually transmitted disease and it causes an infection of a woman’s reproductive organs. This condition can cause painful cramps. Other symptoms of pelvic inflammatory disease may include:  Pelvic pain. Fever. Foul smelling discharge coming from your vagina. Pain and/or bleeding during sex. A burning sensation during urination. Bleeding between your periods. Cervical stenosis is when the opening of the cervix is narrower than is normal. Some women who are past menopause may have cervical stenosis without any symptoms. However, symptoms of cervical stenosis may include:  Not having a period. Having painful periods. Having abnormal bleeding, such as between periods. Infertility. A lump in the pelvic area caused by a bulge in the uterus. Uterine fibroids are muscular tumors that grow in the uterine walls. They are often benign and cause no symptoms. However, tumors, cysts, and malformations can also cause secondary dysmenorrhea, which is why it is important to talk to your gynecologist if you have a sudden onset of severe or ongoing menstrual cramps.. If you do have symptoms of uterine fibroids, then some of the symptoms may include:  Bleeding heavily during your period. Having an enlarged abdomen and/or a feeling of fullness in your lower abdomen. Urinating frequently. Experiencing pain during sex. Having pain in your lower back. Having difficulty giving birth or requiring a cesarean section. Being infertile (rare). Intrauterine devices, also known as IUDs can also cause secondary dysmenorrhea. If you have one of these birth control devices and it is causing you severe pain, then talk to your gynecologist. Copper IUDs are more likely to cause severe pain than other types of IUDs.',\n",
       " 'source_sentences': ['.',\n",
       "  'Эндометриоз — это заболевание, при котором клетки эндометрия разрастаются за пределами матки.',\n",
       "  'Клетки могут разрастись вокруг матки и даже распространиться на другие участки брюшной полости.',\n",
       "  'Основными симптомами этого заболевания являются сильные боли во время менструального цикла, которые могут продлиться на протяжении нескольких дней.',\n",
       "  'К другим симптомам также можно отнести следующее:  боль во время секса; боль при испражнении или мочеиспускании, особенно во время менструального цикла; сильное кровотечение во время менструального цикла или в перерыве между циклами; бесплодие; прочие менее серьезные симптомы, вроде вздутия, диареи или запора, тошноты и усталости.',\n",
       "  'Аденомиоз — это заболевание, при котором клетки эндометрия прорастают слишком глубоко в мышечную ткань матки.',\n",
       "  'Это может привести к увеличению размеров матки, болям во время менструаций и прочим симптомам.',\n",
       "  'У некоторых женщин при аденомиозе может не наблюдаться никаких симптомов, у других же может возникнуть следующее:  сильные или длительные боли во время менструального цикла; колющая боль в тазе или сильные спазмы; боли, которые с возрастом становятся все сильнее; боль во время занятий сексом; сгустки крови во время мензурального цикла; отек в брюшной полости из-за увеличенной матки.',\n",
       "  'Причиной развития сальпингита, как правило, являются болезни, передающиеся половым путем.',\n",
       "  'Сама же болезнь приводит к воспалению женских половых органов.',\n",
       "  'Это заболевание может вызывать сильные боли.',\n",
       "  'К другим симптомам сальпингита относятся:  боль в тазе; повышение температуры; выделения из влагалища с неприятным запахом; боль и/или кровотечение во время занятий сексом; чувство жжения во время мочеиспускания; кровотечение между менструальными циклами.',\n",
       "  'Стеноз цервикального канала происходит, когда отверстие шейки матки сужается.',\n",
       "  'У некоторых женщин после менопаузы при данном заболевании может не наблюдаться никаких симптомов.',\n",
       "  'К симптомам стеноза цервикального канала можно отнести следующее:  отсутствие менструального цикла; сильная боль во время менструального цикла; аномальное кровотечение в перерыве между менструальными циклами; бесплодие; припухлость в области таза, вызванная выпуклостью в матке.',\n",
       "  'Миома матки — это мышечная опухоль, растущая в стенках матки.',\n",
       "  'Такие опухоли, как правило, являются доброкачественными и не вызывают никаких симптомов.',\n",
       "  'Однако опухоли, кисты и прочие аномалии могут стать причиной вторичной дисменореи, именно поэтому при наличии сильных менструальных болей так важно обращаться к гинекологу.',\n",
       "  'Симптомы миомы матки включают:  обильное кровотечение во время менструального цикла; Увеличение брюшной полости и/или тяжесть в нижней части живота; частое мочеиспускание; боль во время занятий сексом; боль в пояснице; трудности при деторождении или повторяющаяся необходимость в кесаревом сечении; бесплодие (в редких случаях).',\n",
       "  'Внутриматочные противозачаточные средства, или ВМС, также могут стать причиной вторичной дисменореи.',\n",
       "  'Если у вас установлено одно из этих противозачаточных средств и из-за него у вас сильные боли, советуем немедленно обратиться к гинекологу.',\n",
       "  'Причиной сильных болей, как правило, становятся медные внутриматочные противозачаточные средства.'],\n",
       " 'target_sentences': ['.',\n",
       "  'Endometriosis is when endometrial tissue grows outside of the uterus.',\n",
       "  'The tissue may grow around the uterus or even spread to other parts of your abdomen.',\n",
       "  'Painful periods and cramps that last for several days are the main symptom of this condition, but symptoms can also include:  Pain when you have sex.',\n",
       "  'Pain when you have a bowel movement or urinate, especially during your period.',\n",
       "  'Excessive bleeding during your period or between periods.',\n",
       "  'Infertility.',\n",
       "  'Other less serious symptoms, such as bloating, diarrhea or constipation, nausea, and fatigue.',\n",
       "  'Adenomyosis is a condition that causes endometrial glands to grow too deeply within the uterine muscular wall.',\n",
       "  'This can lead to an enlarged uterus, painful periods, and other symptoms as well.',\n",
       "  'Some women with adenomyosis have no symptoms, but symptoms may include:  Periods that are heavy or that last a long time.',\n",
       "  'Stabbing pain in your pelvis or severe cramps.',\n",
       "  'Cramps that worsen as you get older.',\n",
       "  'Pain during sex.',\n",
       "  'Blood clots that you pass during your period.',\n",
       "  'Swelling in your abdomen due to an enlarged uterus.',\n",
       "  '.',\n",
       "  'Pelvic inflammatory disease often results from a sexually transmitted disease and it causes an infection of a woman’s reproductive organs.',\n",
       "  'This condition can cause painful cramps.',\n",
       "  'Other symptoms of pelvic inflammatory disease may include:  Pelvic pain.',\n",
       "  'Fever.',\n",
       "  'Foul smelling discharge coming from your vagina.',\n",
       "  'Pain and/or bleeding during sex.',\n",
       "  'A burning sensation during urination.',\n",
       "  'Bleeding between your periods.',\n",
       "  'Cervical stenosis is when the opening of the cervix is narrower than is normal.',\n",
       "  'Some women who are past menopause may have cervical stenosis without any symptoms.',\n",
       "  'However, symptoms of cervical stenosis may include:  Not having a period.',\n",
       "  'Having painful periods.',\n",
       "  'Having abnormal bleeding, such as between periods.',\n",
       "  'Infertility.',\n",
       "  'A lump in the pelvic area caused by a bulge in the uterus.',\n",
       "  'Uterine fibroids are muscular tumors that grow in the uterine walls.',\n",
       "  'They are often benign and cause no symptoms.',\n",
       "  'However, tumors, cysts, and malformations can also cause secondary dysmenorrhea, which is why it is important to talk to your gynecologist if you have a sudden onset of severe or ongoing menstrual cramps..',\n",
       "  'If you do have symptoms of uterine fibroids, then some of the symptoms may include:  Bleeding heavily during your period.',\n",
       "  'Having an enlarged abdomen and/or a feeling of fullness in your lower abdomen.',\n",
       "  'Urinating frequently.',\n",
       "  'Experiencing pain during sex.',\n",
       "  'Having pain in your lower back.',\n",
       "  'Having difficulty giving birth or requiring a cesarean section.',\n",
       "  'Being infertile (rare).',\n",
       "  'Intrauterine devices, also known as IUDs can also cause secondary dysmenorrhea.',\n",
       "  'If you have one of these birth control devices and it is causing you severe pain, then talk to your gynecologist.',\n",
       "  'Copper IUDs are more likely to cause severe pain than other types of IUDs.']}"
      ]
     },
     "execution_count": 9,
     "metadata": {},
     "output_type": "execute_result"
    }
   ],
   "source": [
    "ds['train'][0]"
   ]
  },
  {
   "cell_type": "markdown",
   "metadata": {},
   "source": [
    "# Эмбедер\n",
    "\n",
    "Ниже пример эмбедера и того как его натравить на текст, чтобы получить эмбеддинг. Если правильно помню, кост у нас это косинусное расстояние"
   ]
  },
  {
   "cell_type": "code",
   "execution_count": 7,
   "metadata": {},
   "outputs": [
    {
     "data": {
      "application/vnd.jupyter.widget-view+json": {
       "model_id": "ed06b6e67c2b4549b4083f251d019211",
       "version_major": 2,
       "version_minor": 0
      },
      "text/plain": [
       "modules.json:   0%|          | 0.00/461 [00:00<?, ?B/s]"
      ]
     },
     "metadata": {},
     "output_type": "display_data"
    },
    {
     "data": {
      "application/vnd.jupyter.widget-view+json": {
       "model_id": "3f687c754cf64173a24fb98a00f1a726",
       "version_major": 2,
       "version_minor": 0
      },
      "text/plain": [
       "config_sentence_transformers.json:   0%|          | 0.00/122 [00:00<?, ?B/s]"
      ]
     },
     "metadata": {},
     "output_type": "display_data"
    },
    {
     "data": {
      "application/vnd.jupyter.widget-view+json": {
       "model_id": "cdf89dfb0e754ce2a8067ad3b28bea1f",
       "version_major": 2,
       "version_minor": 0
      },
      "text/plain": [
       "README.md:   0%|          | 0.00/2.22k [00:00<?, ?B/s]"
      ]
     },
     "metadata": {},
     "output_type": "display_data"
    },
    {
     "data": {
      "application/vnd.jupyter.widget-view+json": {
       "model_id": "c6517b5210bc4081b1cb545a6b0ad02a",
       "version_major": 2,
       "version_minor": 0
      },
      "text/plain": [
       "sentence_bert_config.json:   0%|          | 0.00/53.0 [00:00<?, ?B/s]"
      ]
     },
     "metadata": {},
     "output_type": "display_data"
    },
    {
     "data": {
      "application/vnd.jupyter.widget-view+json": {
       "model_id": "cb7e6df108b34c4ca255ab4be07278ff",
       "version_major": 2,
       "version_minor": 0
      },
      "text/plain": [
       "config.json:   0%|          | 0.00/804 [00:00<?, ?B/s]"
      ]
     },
     "metadata": {},
     "output_type": "display_data"
    },
    {
     "name": "stderr",
     "output_type": "stream",
     "text": [
      "/usr/local/lib/python3.10/dist-packages/torch/cuda/__init__.py:546: UserWarning: Can't initialize NVML\n",
      "  warnings.warn(\"Can't initialize NVML\")\n"
     ]
    },
    {
     "data": {
      "application/vnd.jupyter.widget-view+json": {
       "model_id": "0cfce229bfba40e4ac621a4be9157669",
       "version_major": 2,
       "version_minor": 0
      },
      "text/plain": [
       "model.safetensors:   0%|          | 0.00/1.88G [00:00<?, ?B/s]"
      ]
     },
     "metadata": {},
     "output_type": "display_data"
    },
    {
     "data": {
      "application/vnd.jupyter.widget-view+json": {
       "model_id": "3051f34a59ad48bba3fe5b0e5cc6e7e2",
       "version_major": 2,
       "version_minor": 0
      },
      "text/plain": [
       "tokenizer_config.json:   0%|          | 0.00/397 [00:00<?, ?B/s]"
      ]
     },
     "metadata": {},
     "output_type": "display_data"
    },
    {
     "data": {
      "application/vnd.jupyter.widget-view+json": {
       "model_id": "d43e365edc57449190be2a3254db1b53",
       "version_major": 2,
       "version_minor": 0
      },
      "text/plain": [
       "vocab.txt:   0%|          | 0.00/5.22M [00:00<?, ?B/s]"
      ]
     },
     "metadata": {},
     "output_type": "display_data"
    },
    {
     "data": {
      "application/vnd.jupyter.widget-view+json": {
       "model_id": "56fe95d604524856a6205e1072acb7df",
       "version_major": 2,
       "version_minor": 0
      },
      "text/plain": [
       "tokenizer.json:   0%|          | 0.00/9.62M [00:00<?, ?B/s]"
      ]
     },
     "metadata": {},
     "output_type": "display_data"
    },
    {
     "data": {
      "application/vnd.jupyter.widget-view+json": {
       "model_id": "89c081f3284d484fbc14e71bab890023",
       "version_major": 2,
       "version_minor": 0
      },
      "text/plain": [
       "special_tokens_map.json:   0%|          | 0.00/112 [00:00<?, ?B/s]"
      ]
     },
     "metadata": {},
     "output_type": "display_data"
    },
    {
     "data": {
      "application/vnd.jupyter.widget-view+json": {
       "model_id": "1a853abd43184609b4639e00416f097e",
       "version_major": 2,
       "version_minor": 0
      },
      "text/plain": [
       "1_Pooling/config.json:   0%|          | 0.00/190 [00:00<?, ?B/s]"
      ]
     },
     "metadata": {},
     "output_type": "display_data"
    },
    {
     "data": {
      "application/vnd.jupyter.widget-view+json": {
       "model_id": "b330d8d539de4a87a99a1ac83aad3348",
       "version_major": 2,
       "version_minor": 0
      },
      "text/plain": [
       "2_Dense/model.safetensors:   0%|          | 0.00/2.36M [00:00<?, ?B/s]"
      ]
     },
     "metadata": {},
     "output_type": "display_data"
    },
    {
     "data": {
      "application/vnd.jupyter.widget-view+json": {
       "model_id": "60cc9a08756e41ad810340e73a6abbd5",
       "version_major": 2,
       "version_minor": 0
      },
      "text/plain": [
       "2_Dense/pytorch_model.bin:   0%|          | 0.00/2.36M [00:00<?, ?B/s]"
      ]
     },
     "metadata": {},
     "output_type": "display_data"
    },
    {
     "data": {
      "application/vnd.jupyter.widget-view+json": {
       "model_id": "5f32a32d29f34f33b6ff52819f8a365d",
       "version_major": 2,
       "version_minor": 0
      },
      "text/plain": [
       "2_Dense/config.json:   0%|          | 0.00/114 [00:00<?, ?B/s]"
      ]
     },
     "metadata": {},
     "output_type": "display_data"
    }
   ],
   "source": [
    "embedder = SentenceTransformer('sentence-transformers/LaBSE')"
   ]
  },
  {
   "cell_type": "code",
   "execution_count": 11,
   "metadata": {},
   "outputs": [],
   "source": [
    "sentences = ds['train'][0]['source_sentences'][:2] \n",
    "embeddings = embedder.encode(sentences)"
   ]
  },
  {
   "cell_type": "code",
   "execution_count": 14,
   "metadata": {},
   "outputs": [
    {
     "data": {
      "text/plain": [
       "(2, 768)"
      ]
     },
     "execution_count": 14,
     "metadata": {},
     "output_type": "execute_result"
    }
   ],
   "source": [
    "embeddings.shape"
   ]
  },
  {
   "cell_type": "markdown",
   "metadata": {},
   "source": [
    "# Модель \n",
    "Ниже пример модели которую можно взять и использовать как переводчик"
   ]
  },
  {
   "cell_type": "code",
   "execution_count": 43,
   "metadata": {},
   "outputs": [
    {
     "data": {
      "application/vnd.jupyter.widget-view+json": {
       "model_id": "2a83cb77c9364a94b2646357011465df",
       "version_major": 2,
       "version_minor": 0
      },
      "text/plain": [
       "config.json:   0%|          | 0.00/809 [00:00<?, ?B/s]"
      ]
     },
     "metadata": {},
     "output_type": "display_data"
    },
    {
     "data": {
      "application/vnd.jupyter.widget-view+json": {
       "model_id": "442abb85377746aa8ac2e8d88ce818de",
       "version_major": 2,
       "version_minor": 0
      },
      "text/plain": [
       "model.safetensors:   0%|          | 0.00/443M [00:00<?, ?B/s]"
      ]
     },
     "metadata": {},
     "output_type": "display_data"
    },
    {
     "data": {
      "application/vnd.jupyter.widget-view+json": {
       "model_id": "25d6c7823edd48e0b5022e5a6e3b7a4b",
       "version_major": 2,
       "version_minor": 0
      },
      "text/plain": [
       "generation_config.json:   0%|          | 0.00/185 [00:00<?, ?B/s]"
      ]
     },
     "metadata": {},
     "output_type": "display_data"
    },
    {
     "data": {
      "application/vnd.jupyter.widget-view+json": {
       "model_id": "0f3b7c4b13594378b73e3e9d81cc5e76",
       "version_major": 2,
       "version_minor": 0
      },
      "text/plain": [
       "tokenizer_config.json:   0%|          | 0.00/20.6k [00:00<?, ?B/s]"
      ]
     },
     "metadata": {},
     "output_type": "display_data"
    },
    {
     "data": {
      "application/vnd.jupyter.widget-view+json": {
       "model_id": "a580c5454e8f44cbba1f448dac2d915c",
       "version_major": 2,
       "version_minor": 0
      },
      "text/plain": [
       "spiece.model:   0%|          | 0.00/1.47M [00:00<?, ?B/s]"
      ]
     },
     "metadata": {},
     "output_type": "display_data"
    },
    {
     "data": {
      "application/vnd.jupyter.widget-view+json": {
       "model_id": "be90eae3dc444a448bdea47b2de0df4a",
       "version_major": 2,
       "version_minor": 0
      },
      "text/plain": [
       "added_tokens.json:   0%|          | 0.00/2.59k [00:00<?, ?B/s]"
      ]
     },
     "metadata": {},
     "output_type": "display_data"
    },
    {
     "data": {
      "application/vnd.jupyter.widget-view+json": {
       "model_id": "1034b7e7b84244c28b8f5e3dbbd94885",
       "version_major": 2,
       "version_minor": 0
      },
      "text/plain": [
       "special_tokens_map.json:   0%|          | 0.00/2.54k [00:00<?, ?B/s]"
      ]
     },
     "metadata": {},
     "output_type": "display_data"
    },
    {
     "name": "stderr",
     "output_type": "stream",
     "text": [
      "Special tokens have been added in the vocabulary, make sure the associated word embeddings are fine-tuned or trained.\n"
     ]
    }
   ],
   "source": [
    "from transformers import T5ForConditionalGeneration, T5Tokenizer\n",
    "\n",
    "model_name = 'utrobinmv/t5_translate_en_ru_zh_small_1024'\n",
    "model = T5ForConditionalGeneration.from_pretrained(model_name)\n",
    "tokenizer = T5Tokenizer.from_pretrained(model_name)\n"
   ]
  },
  {
   "cell_type": "code",
   "execution_count": 45,
   "metadata": {},
   "outputs": [
    {
     "name": "stdout",
     "output_type": "stream",
     "text": [
      "translate to en: Эндометриоз — это заболевание, при котором клетки эндометрия разрастаются за пределами матки.\n",
      "Endometriosis is when endometrial tissue grows outside of the uterus.\n"
     ]
    }
   ],
   "source": [
    "prefix = 'translate to en: '\n",
    "\n",
    "sentence_source = prefix + ds['train'][0]['source_sentences'][1]\n",
    "sentence_target = ds['train'][0]['target_sentences'][1]\n",
    "print(sentence_source)\n",
    "print(sentence_target)"
   ]
  },
  {
   "cell_type": "code",
   "execution_count": 47,
   "metadata": {},
   "outputs": [
    {
     "name": "stdout",
     "output_type": "stream",
     "text": [
      "tensor([[21809,    19,  1904,    31,  7711,   870,  5344,    48,  1934,  1248,\n",
      "           140, 31113,     3,   138,  1297,  9814, 31686,  5344,   210,   344,\n",
      "          7454, 11757,    79,  8364, 44995,     5,     1]])\n",
      "tensor([[12055, 50978,  9113,    36,   266,   724, 50978,   167, 12933, 31059,\n",
      "          2799,    11,     7,     4, 19258,   524,     5,     1]])\n"
     ]
    }
   ],
   "source": [
    "inputs = tokenizer(sentence_source, return_tensors='pt')\n",
    "target = tokenizer(sentence_target, return_tensors='pt')\n",
    "print(inputs['input_ids'])\n",
    "print(target['input_ids'])"
   ]
  },
  {
   "cell_type": "code",
   "execution_count": 52,
   "metadata": {},
   "outputs": [],
   "source": [
    "model_output = model.forward(input_ids=inputs['input_ids'], labels=target['input_ids']) # example of forward with labels"
   ]
  },
  {
   "cell_type": "code",
   "execution_count": 53,
   "metadata": {},
   "outputs": [
    {
     "data": {
      "text/plain": [
       "tensor(1.7059, grad_fn=<NllLossBackward0>)"
      ]
     },
     "execution_count": 53,
     "metadata": {},
     "output_type": "execute_result"
    }
   ],
   "source": [
    "model_output.loss # classical LM loss"
   ]
  },
  {
   "cell_type": "code",
   "execution_count": 54,
   "metadata": {},
   "outputs": [
    {
     "data": {
      "text/plain": [
       "tensor([[[ 3.1402,  2.8674, -0.4382,  ..., -0.0901, -0.3192,  0.0574],\n",
       "         [-9.3730,  5.0923, -1.0458,  ..., -2.9596, -0.2955,  3.2580],\n",
       "         [-3.0122,  4.9365,  1.2672,  ..., -2.3432, -0.4492, -0.4214],\n",
       "         ...,\n",
       "         [-2.4007, 14.5755,  2.8734,  ..., -4.6242,  2.0256, -3.8511],\n",
       "         [ 5.1333, 14.6066,  2.7880,  ..., -0.7696, -0.8217, -1.5252],\n",
       "         [ 2.3764, 23.6438,  3.2459,  ..., -2.5638,  0.7757, -1.5859]]],\n",
       "       grad_fn=<UnsafeViewBackward0>)"
      ]
     },
     "execution_count": 54,
     "metadata": {},
     "output_type": "execute_result"
    }
   ],
   "source": [
    "model_output.logits # example of logits"
   ]
  },
  {
   "cell_type": "code",
   "execution_count": 48,
   "metadata": {},
   "outputs": [
    {
     "name": "stdout",
     "output_type": "stream",
     "text": [
      "['Endometriosis is a disease in which endometrial cells grow outside the uterus.']\n"
     ]
    }
   ],
   "source": [
    "generated_tokens = model.generate(**inputs) # example of generation. Further we would want to specify generation config\n",
    "\n",
    "result = tokenizer.batch_decode(generated_tokens, skip_special_tokens=True) # decoding back to human readable text\n",
    "print(result)"
   ]
  },
  {
   "cell_type": "code",
   "execution_count": null,
   "metadata": {},
   "outputs": [],
   "source": []
  }
 ],
 "metadata": {
  "kernelspec": {
   "display_name": "Python 3",
   "language": "python",
   "name": "python3"
  },
  "language_info": {
   "codemirror_mode": {
    "name": "ipython",
    "version": 3
   },
   "file_extension": ".py",
   "mimetype": "text/x-python",
   "name": "python",
   "nbconvert_exporter": "python",
   "pygments_lexer": "ipython3",
   "version": "3.10.12"
  }
 },
 "nbformat": 4,
 "nbformat_minor": 2
}
